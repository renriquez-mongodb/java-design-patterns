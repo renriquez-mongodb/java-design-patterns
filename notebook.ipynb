{
 "cells": [
  {
   "cell_type": "markdown",
   "metadata": {},
   "source": [
    "# MongoDB Design Patterns (in Java)"
   ]
  },
  {
   "cell_type": "markdown",
   "metadata": {},
   "source": [
    "Install MongoDB driver"
   ]
  },
  {
   "cell_type": "code",
   "execution_count": 7,
   "metadata": {
    "vscode": {
     "languageId": "java"
    }
   },
   "outputs": [],
   "source": [
    "%maven org.mongodb:mongodb-driver-sync:5.2.1"
   ]
  },
  {
   "cell_type": "code",
   "execution_count": 14,
   "metadata": {
    "vscode": {
     "languageId": "java"
    }
   },
   "outputs": [
    {
     "name": "stdout",
     "output_type": "stream",
     "text": [
      "No matching documents found.\n"
     ]
    }
   ],
   "source": [
    "import org.bson.Document;\n",
    "\n",
    "import com.mongodb.client.MongoClient;\n",
    "import com.mongodb.client.MongoClients;\n",
    "import com.mongodb.client.MongoCollection;\n",
    "import com.mongodb.client.MongoDatabase;\n",
    "\n",
    "String uri = \"mongo-uri-here\"; // REPLACE ME\n",
    "\n",
    "try (MongoClient mongoClient = MongoClients.create(uri)) {\n",
    "    MongoDatabase database = mongoClient.getDatabase(\"design-patterns\");\n",
    "    MongoCollection<Document> collection = database.getCollection(\"trucks\");\n",
    "    Document doc = collection.find().first();\n",
    "    if (doc != null) {\n",
    "        System.out.println(doc.toJson());\n",
    "    } else {\n",
    "        System.out.println(\"No matching documents found.\");\n",
    "    }\n",
    "}\n"
   ]
  }
 ],
 "metadata": {
  "kernelspec": {
   "display_name": "Java",
   "language": "java",
   "name": "java"
  },
  "language_info": {
   "codemirror_mode": "java",
   "file_extension": ".jshell",
   "mimetype": "text/x-java-source",
   "name": "Java",
   "pygments_lexer": "java",
   "version": "11.0.4+11-LTS"
  }
 },
 "nbformat": 4,
 "nbformat_minor": 2
}
